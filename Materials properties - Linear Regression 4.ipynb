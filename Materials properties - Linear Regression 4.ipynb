{
 "cells": [
  {
   "cell_type": "markdown",
   "id": "5711ba91-a025-4da1-8a1c-79436b834f17",
   "metadata": {},
   "source": [
    "This uses **band gap, density, energy per atom, formation energy per atom, volume, bulk modulus and shear modulus** data to predict the **density** of **Carbon.**"
   ]
  },
  {
   "cell_type": "code",
   "execution_count": 11,
   "id": "9922d2e6-b2d9-4100-83a5-389c8430114d",
   "metadata": {},
   "outputs": [],
   "source": [
    "from pymatgen.ext.matproj import MPRester\n",
    "import pandas as pd\n",
    "import numpy as np\n",
    "from sklearn.model_selection import train_test_split\n",
    "from sklearn.preprocessing import StandardScaler, PolynomialFeatures\n",
    "from sklearn.linear_model import LinearRegression\n",
    "from sklearn.metrics import mean_absolute_error, mean_squared_error, r2_score\n",
    "import matplotlib.pyplot as plt"
   ]
  },
  {
   "cell_type": "code",
   "execution_count": 12,
   "id": "c2424b9d-b4a1-4fca-880e-b2c3c4effe78",
   "metadata": {},
   "outputs": [
    {
     "data": {
      "application/vnd.jupyter.widget-view+json": {
       "model_id": "b83f07c451d249f288a353461b1f6e2b",
       "version_major": 2,
       "version_minor": 0
      },
      "text/plain": [
       "Retrieving SummaryDoc documents:   0%|          | 0/9030 [00:00<?, ?it/s]"
      ]
     },
     "metadata": {},
     "output_type": "display_data"
    },
    {
     "data": {
      "text/html": [
       "<div>\n",
       "<style scoped>\n",
       "    .dataframe tbody tr th:only-of-type {\n",
       "        vertical-align: middle;\n",
       "    }\n",
       "\n",
       "    .dataframe tbody tr th {\n",
       "        vertical-align: top;\n",
       "    }\n",
       "\n",
       "    .dataframe thead th {\n",
       "        text-align: right;\n",
       "    }\n",
       "</style>\n",
       "<table border=\"1\" class=\"dataframe\">\n",
       "  <thead>\n",
       "    <tr style=\"text-align: right;\">\n",
       "      <th></th>\n",
       "      <th>material_id</th>\n",
       "      <th>formula_pretty</th>\n",
       "      <th>band_gap</th>\n",
       "      <th>density</th>\n",
       "      <th>energy_per_atom</th>\n",
       "      <th>formation_energy_per_atom</th>\n",
       "      <th>volume</th>\n",
       "      <th>bulk_modulus</th>\n",
       "      <th>shear_modulus</th>\n",
       "    </tr>\n",
       "  </thead>\n",
       "  <tbody>\n",
       "    <tr>\n",
       "      <th>0</th>\n",
       "      <td>mp-1197903</td>\n",
       "      <td>C</td>\n",
       "      <td>0.0797</td>\n",
       "      <td>1.030997</td>\n",
       "      <td>-7.818166</td>\n",
       "      <td>1.410500</td>\n",
       "      <td>1547.569425</td>\n",
       "      <td>None</td>\n",
       "      <td>None</td>\n",
       "    </tr>\n",
       "    <tr>\n",
       "      <th>1</th>\n",
       "      <td>mp-1244913</td>\n",
       "      <td>C</td>\n",
       "      <td>0.1060</td>\n",
       "      <td>1.675489</td>\n",
       "      <td>-8.234413</td>\n",
       "      <td>0.994253</td>\n",
       "      <td>1190.353192</td>\n",
       "      <td>None</td>\n",
       "      <td>None</td>\n",
       "    </tr>\n",
       "    <tr>\n",
       "      <th>2</th>\n",
       "      <td>mp-1244964</td>\n",
       "      <td>C</td>\n",
       "      <td>0.0724</td>\n",
       "      <td>1.769793</td>\n",
       "      <td>-8.294069</td>\n",
       "      <td>0.934597</td>\n",
       "      <td>1126.924923</td>\n",
       "      <td>None</td>\n",
       "      <td>None</td>\n",
       "    </tr>\n",
       "    <tr>\n",
       "      <th>3</th>\n",
       "      <td>mp-1245190</td>\n",
       "      <td>C</td>\n",
       "      <td>0.0000</td>\n",
       "      <td>1.783634</td>\n",
       "      <td>-8.213719</td>\n",
       "      <td>1.014946</td>\n",
       "      <td>1118.180174</td>\n",
       "      <td>None</td>\n",
       "      <td>None</td>\n",
       "    </tr>\n",
       "    <tr>\n",
       "      <th>4</th>\n",
       "      <td>mp-1182029</td>\n",
       "      <td>C</td>\n",
       "      <td>0.0000</td>\n",
       "      <td>1.377342</td>\n",
       "      <td>-8.226256</td>\n",
       "      <td>1.002409</td>\n",
       "      <td>115.841849</td>\n",
       "      <td>None</td>\n",
       "      <td>None</td>\n",
       "    </tr>\n",
       "  </tbody>\n",
       "</table>\n",
       "</div>"
      ],
      "text/plain": [
       "  material_id formula_pretty  band_gap   density  energy_per_atom  \\\n",
       "0  mp-1197903              C    0.0797  1.030997        -7.818166   \n",
       "1  mp-1244913              C    0.1060  1.675489        -8.234413   \n",
       "2  mp-1244964              C    0.0724  1.769793        -8.294069   \n",
       "3  mp-1245190              C    0.0000  1.783634        -8.213719   \n",
       "4  mp-1182029              C    0.0000  1.377342        -8.226256   \n",
       "\n",
       "   formation_energy_per_atom       volume bulk_modulus shear_modulus  \n",
       "0                   1.410500  1547.569425         None          None  \n",
       "1                   0.994253  1190.353192         None          None  \n",
       "2                   0.934597  1126.924923         None          None  \n",
       "3                   1.014946  1118.180174         None          None  \n",
       "4                   1.002409   115.841849         None          None  "
      ]
     },
     "execution_count": 12,
     "metadata": {},
     "output_type": "execute_result"
    }
   ],
   "source": [
    "API_KEY = \"skJhy2zM0Gmz5S2q484qVitS2S27LqGv\"\n",
    "\n",
    "with MPRester(API_KEY) as mpr:\n",
    "    results = mpr.materials.summary.search(\n",
    "        elements=[\"C\"],  \n",
    "        fields=[\n",
    "            \"material_id\", \"formula_pretty\", \"band_gap\", \"density\", \"energy_per_atom\",\n",
    "            \"formation_energy_per_atom\", \"volume\", \"bulk_modulus\", \"shear_modulus\"\n",
    "        ]\n",
    "    )\n",
    "\n",
    "data_list = [\n",
    "    {\n",
    "        \"material_id\": material.material_id,\n",
    "        \"formula_pretty\": material.formula_pretty,\n",
    "        \"band_gap\": material.band_gap,\n",
    "        \"density\": material.density,\n",
    "        \"energy_per_atom\": material.energy_per_atom,\n",
    "        \"formation_energy_per_atom\": material.formation_energy_per_atom,\n",
    "        \"volume\": material.volume,\n",
    "        \"bulk_modulus\": material.bulk_modulus,\n",
    "        \"shear_modulus\": material.shear_modulus\n",
    "    }\n",
    "    for material in results\n",
    "]\n",
    "\n",
    "df = pd.DataFrame(data_list)\n",
    "\n",
    "df.head()"
   ]
  },
  {
   "cell_type": "code",
   "execution_count": 13,
   "id": "085a6add-1adc-419f-8b01-7852da8af127",
   "metadata": {},
   "outputs": [
    {
     "name": "stdout",
     "output_type": "stream",
     "text": [
      "material_id                     0\n",
      "formula_pretty                  0\n",
      "band_gap                        0\n",
      "density                         0\n",
      "energy_per_atom                 0\n",
      "formation_energy_per_atom       0\n",
      "volume                          0\n",
      "bulk_modulus                 8596\n",
      "shear_modulus                8596\n",
      "dtype: int64\n",
      "material_id                  0\n",
      "formula_pretty               0\n",
      "band_gap                     0\n",
      "density                      0\n",
      "energy_per_atom              0\n",
      "formation_energy_per_atom    0\n",
      "volume                       0\n",
      "bulk_modulus                 0\n",
      "shear_modulus                0\n",
      "dtype: int64\n"
     ]
    }
   ],
   "source": [
    "print(df.isnull().sum())\n",
    "\n",
    "df = df.dropna()\n",
    "\n",
    "print(df.isnull().sum())"
   ]
  },
  {
   "cell_type": "code",
   "execution_count": 14,
   "id": "8bc8ba7a-f78a-470c-8ac2-4cc0478670b7",
   "metadata": {},
   "outputs": [
    {
     "name": "stdout",
     "output_type": "stream",
     "text": [
      "Training samples: 347, Testing samples: 87\n"
     ]
    }
   ],
   "source": [
    "features = [\"band_gap\", \"energy_per_atom\", \"formation_energy_per_atom\", \"volume\", \"bulk_modulus\", \"shear_modulus\"]\n",
    "X = df[features]\n",
    "y = df[\"density\"]\n",
    "\n",
    "X_train, X_test, y_train, y_test = train_test_split(X, y, test_size=0.2, random_state=42)\n",
    "\n",
    "print(f\"Training samples: {X_train.shape[0]}, Testing samples: {X_test.shape[0]}\")\n"
   ]
  },
  {
   "cell_type": "code",
   "execution_count": 15,
   "id": "92411013-dd7e-42b5-b7aa-286c882f0031",
   "metadata": {},
   "outputs": [
    {
     "name": "stdout",
     "output_type": "stream",
     "text": [
      "Checking column data types before processing:\n",
      "\n",
      "material_id                   object\n",
      "formula_pretty                object\n",
      "band_gap                     float64\n",
      "density                      float64\n",
      "energy_per_atom              float64\n",
      "formation_energy_per_atom    float64\n",
      "volume                       float64\n",
      "bulk_modulus                  object\n",
      "shear_modulus                 object\n",
      "dtype: object\n",
      "Column 'bulk_modulus' contains dictionary data. Attempting to extract numeric values...\n",
      "Column 'shear_modulus' contains dictionary data. Attempting to extract numeric values...\n",
      "\n",
      "Columns retained for training (numeric only): Index(['band_gap', 'density', 'energy_per_atom', 'formation_energy_per_atom',\n",
      "       'volume'],\n",
      "      dtype='object')\n",
      "\n",
      "Data Types After Processing:\n",
      " band_gap                     float64\n",
      "density                      float64\n",
      "energy_per_atom              float64\n",
      "formation_energy_per_atom    float64\n",
      "volume                       float64\n",
      "dtype: object\n",
      "\n",
      "First 5 Rows After Scaling:\n",
      "    band_gap  energy_per_atom  formation_energy_per_atom    volume\n",
      "0 -0.568918         0.357764                   0.787704 -0.855748\n",
      "1  1.704997         0.617692                  -0.402331  1.366558\n",
      "2  0.093586         0.623042                  -0.689838  4.006075\n",
      "3 -0.568918        -1.801155                   0.800757 -0.785837\n",
      "4 -0.568918        -1.710080                   0.079207 -0.756696\n"
     ]
    }
   ],
   "source": [
    "from sklearn.preprocessing import StandardScaler\n",
    "\n",
    "print(\"Checking column data types before processing:\\n\")\n",
    "print(df.dtypes)\n",
    "\n",
    "for col in df.columns:\n",
    "    first_value = df[col].iloc[0]\n",
    "    if isinstance(first_value, dict):\n",
    "        print(f\"Column '{col}' contains dictionary data. Attempting to extract numeric values...\")\n",
    "        df[col] = df[col].apply(lambda x: x.get(\"value\") if isinstance(x, dict) and \"value\" in x else None)\n",
    "\n",
    "df_numeric = df.select_dtypes(include=[\"float64\", \"int64\"]) \n",
    "print(\"\\nColumns retained for training (numeric only):\", df_numeric.columns)\n",
    "\n",
    "X_train, X_test, y_train, y_test = train_test_split(df_numeric.drop(columns=[\"density\"]), df_numeric[\"density\"], test_size=0.2, random_state=42)\n",
    "\n",
    "scaler = StandardScaler()\n",
    "X_train_scaled = scaler.fit_transform(X_train)\n",
    "X_test_scaled = scaler.transform(X_test)\n",
    "\n",
    "X_train_scaled = pd.DataFrame(X_train_scaled, columns=X_train.columns)\n",
    "X_test_scaled = pd.DataFrame(X_test_scaled, columns=X_test.columns)\n",
    "\n",
    "print(\"\\nData Types After Processing:\\n\", df_numeric.dtypes)\n",
    "print(\"\\nFirst 5 Rows After Scaling:\\n\", X_train_scaled.head())\n"
   ]
  },
  {
   "cell_type": "code",
   "execution_count": 16,
   "id": "4d36ed03-e1ef-4ab0-a7d2-ec1a48552168",
   "metadata": {},
   "outputs": [
    {
     "name": "stdout",
     "output_type": "stream",
     "text": [
      "Original feature count: 4, New feature count: 5\n"
     ]
    }
   ],
   "source": [
    "poly = PolynomialFeatures(degree=1)\n",
    "X_train_poly = poly.fit_transform(X_train_scaled)\n",
    "X_test_poly = poly.transform(X_test_scaled)\n",
    "\n",
    "print(f\"Original feature count: {X_train.shape[1]}, New feature count: {X_train_poly.shape[1]}\")"
   ]
  },
  {
   "cell_type": "code",
   "execution_count": 17,
   "id": "acc1361d-9e53-4f15-99ba-a05bd265dc61",
   "metadata": {},
   "outputs": [
    {
     "name": "stdout",
     "output_type": "stream",
     "text": [
      "Mean Squared Error (MSE): 9.0161\n",
      "Mean Absolute Error (MAE): 2.3433\n",
      "Root Mean Squared Error (RMSE): 3.0027\n",
      "R² Score: 0.4095\n"
     ]
    }
   ],
   "source": [
    "model = LinearRegression()\n",
    "model.fit(X_train_poly, y_train)\n",
    "\n",
    "y_pred = model.predict(X_test_poly)\n",
    "\n",
    "mse = mean_squared_error(y_test, y_pred)\n",
    "mae = mean_absolute_error(y_test, y_pred)\n",
    "rmse = np.sqrt(mse)\n",
    "r2 = r2_score(y_test, y_pred)\n",
    "\n",
    "print(f\"Mean Squared Error (MSE): {mse:.4f}\")\n",
    "print(f\"Mean Absolute Error (MAE): {mae:.4f}\")\n",
    "print(f\"Root Mean Squared Error (RMSE): {rmse:.4f}\")\n",
    "print(f\"R² Score: {r2:.4f}\")\n"
   ]
  },
  {
   "cell_type": "code",
   "execution_count": 18,
   "id": "a7f3f480-7862-45f5-b113-ffe3d7a4eb23",
   "metadata": {},
   "outputs": [
    {
     "data": {
      "image/png": "[encoded data removed]",
      "text/plain": [
       "<Figure size 600x600 with 1 Axes>"
      ]
     },
     "metadata": {},
     "output_type": "display_data"
    }
   ],
   "source": [
    "plt.figure(figsize=(6,6))\n",
    "plt.scatter(y_test, y_pred, alpha=0.5, color=\"blue\", label=\"Linear Regression\")\n",
    "plt.xlabel(\"Actual Density\")\n",
    "plt.ylabel(\"Predicted Density\")\n",
    "plt.title(\"Actual vs. Predicted Density\")\n",
    "plt.legend()\n",
    "plt.show()\n"
   ]
  },
  {
   "cell_type": "code",
   "execution_count": null,
   "id": "55d1215f-7e19-4bcd-ad96-e4433d83d280",
   "metadata": {},
   "outputs": [],
   "source": []
  }
 ],
 "metadata": {
  "kernelspec": {
   "display_name": "Python 3 (ipykernel)",
   "language": "python",
   "name": "python3"
  },
  "language_info": {
   "codemirror_mode": {
    "name": "ipython",
    "version": 3
   },
   "file_extension": ".py",
   "mimetype": "text/x-python",
   "name": "python",
   "nbconvert_exporter": "python",
   "pygments_lexer": "ipython3",
   "version": "3.12.4"
  }
 },
 "nbformat": 4,
 "nbformat_minor": 5
}
